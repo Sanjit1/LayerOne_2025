{
 "cells": [
  {
   "cell_type": "code",
   "execution_count": null,
   "id": "5decdb3f",
   "metadata": {},
   "outputs": [],
   "source": [
    "# const uint8_t ledMap[50][2] = {\n",
    "#   {0, 0}, {0, 0},  // LED1, LED2 DO NOT EXIST\n",
    "#   {4, 2}, {2, 4},  // LED3, LED4\n",
    "#   {4, 1}, {1, 4},  // LED5, LED6\n",
    "#   {4, 0}, {0, 4},  // LED7, LED8\n",
    "#   {4, 7}, {7, 4},  // LED9, LED10\n",
    "#   {4, 3}, {3, 4},  // LED11, LED12\n",
    "#   {6, 3}, {3, 6},  // LED13, LED14\n",
    "#   {3, 1}, {1, 3},  // LED15, LED16\n",
    "#   {3, 0}, {0, 3},  // LED17, LED18\n",
    "#   {3, 7}, {7, 3},  // LED19, LED20\n",
    "#   {2, 3}, {3, 2},  // LED21, LED22\n",
    "#   {2, 1}, {1, 2},  // LED23, LED24\n",
    "#   {2, 0}, {0, 2},  // LED25, LED26\n",
    "#   {2, 7}, {7, 2},  // LED27, LED28\n",
    "#   {2, 7}, {7, 2},  // LED29, LED30\n",
    "#   {1, 0}, {0, 1},  // LED31, LED32\n",
    "#   {1, 7}, {7, 1},  // LED33, LED34\n",
    "#   {0, 7}, {7, 0},  // LED35, LED36\n",
    "#   {1, 6}, {6, 1},  // LED37, LED38\n",
    "#   {0, 6}, {6, 0},  // LED39, LED40\n",
    "#   {7, 6}, {6, 7},  // LED41, LED42\n",
    "#   {6, 4}, {4, 6},  // LED43, LED44\n",
    "#   {5, 6}, {6, 5},  // LED45, LED46\n",
    "#   {5, 4}, {4, 5},  // LED47, LED48\n",
    "#   {5, 3}, {3, 5},  // LED49, LED50\n",
    "# };\n",
    "\n",
    "# // so these leds are arranged in an 8x6 grid, but the mapping is not straightforward.\n",
    "# const uint8_t ledGrid[8][6] = {\n",
    "#   {17, 25, 33, 41, 7, 45},\n",
    "#   {16, 24, 32, 40, 6, 46},\n",
    "#   {15, 23, 31, 39, 5, 47},\n",
    "#   {14, 22, 30, 38, 4, 48},\n",
    "#   {13, 21, 29, 37, 3, 49},\n",
    "#   {12, 20, 28, 36, 44, 50},\n",
    "#   {11, 19, 27, 35, 43, 9},\n",
    "#   {10, 18, 26, 34, 42, 8}\n",
    "# };"
   ]
  }
 ],
 "metadata": {
  "kernelspec": {
   "display_name": "calc-env",
   "language": "python",
   "name": "python3"
  },
  "language_info": {
   "name": "python",
   "version": "3.12.9"
  }
 },
 "nbformat": 4,
 "nbformat_minor": 5
}
